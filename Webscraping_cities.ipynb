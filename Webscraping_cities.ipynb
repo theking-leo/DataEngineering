{
  "nbformat": 4,
  "nbformat_minor": 0,
  "metadata": {
    "colab": {
      "provenance": []
    },
    "kernelspec": {
      "name": "python3",
      "display_name": "Python 3"
    },
    "language_info": {
      "name": "python"
    }
  },
  "cells": [
    {
      "cell_type": "code",
      "execution_count": null,
      "metadata": {
        "id": "APsNCtqJXp5r"
      },
      "outputs": [],
      "source": [
        "# import libraries\n",
        "from bs4 import BeautifulSoup\n",
        "import requests\n",
        "import pandas as pd"
      ]
    },
    {
      "cell_type": "code",
      "source": [
        "# store url in a variable\n",
        "url = \"https://en.wikipedia.org/wiki/Berlin\""
      ],
      "metadata": {
        "id": "SDp2_E14YWms"
      },
      "execution_count": null,
      "outputs": []
    },
    {
      "cell_type": "code",
      "source": [
        "# download html with a get request\n",
        "headers = {'Accept-Language': 'en-US,en;q=0.8'}\n",
        "\n",
        "response = requests.get(url, headers = headers)\n",
        "\n",
        "response.status_code"
      ],
      "metadata": {
        "colab": {
          "base_uri": "https://localhost:8080/"
        },
        "id": "CZXT4LqxYc9n",
        "outputId": "71e00073-eb12-4364-ddc9-a3590816ad5e"
      },
      "execution_count": null,
      "outputs": [
        {
          "output_type": "execute_result",
          "data": {
            "text/plain": [
              "200"
            ]
          },
          "metadata": {},
          "execution_count": 3
        }
      ]
    },
    {
      "cell_type": "code",
      "source": [
        "# parse html (create the 'soup')\n",
        "wiki_soup_be = BeautifulSoup(response.content, \"html.parser\")\n",
        "\n",
        "wiki_soup_be"
      ],
      "metadata": {
        "id": "TAcArT31YwFh"
      },
      "execution_count": null,
      "outputs": []
    },
    {
      "cell_type": "markdown",
      "source": [
        "# Info. we want to extract:\n",
        "\n",
        "1. City name\n",
        "2. Country name\n",
        "3. Latitude\n",
        "4. Longitude\n",
        "5. Population"
      ],
      "metadata": {
        "id": "NSw5XkHGZ_UO"
      }
    },
    {
      "cell_type": "code",
      "source": [
        "# extracting city name\n",
        "\n",
        "city_name_0 = wiki_soup_be.select(\"div.fn.org\")[0].get_text()"
      ],
      "metadata": {
        "id": "LHu6gBnZaO3E"
      },
      "execution_count": null,
      "outputs": []
    },
    {
      "cell_type": "code",
      "source": [
        "city_name_0"
      ],
      "metadata": {
        "colab": {
          "base_uri": "https://localhost:8080/",
          "height": 36
        },
        "id": "XiwCM0DicKT7",
        "outputId": "2bcaa063-882f-42fc-ef21-ebe8035f9580"
      },
      "execution_count": null,
      "outputs": [
        {
          "output_type": "execute_result",
          "data": {
            "text/plain": [
              "'Berlin'"
            ],
            "application/vnd.google.colaboratory.intrinsic+json": {
              "type": "string"
            }
          },
          "metadata": {},
          "execution_count": 6
        }
      ]
    },
    {
      "cell_type": "code",
      "source": [
        "# extracting city name\n",
        "city_name = wiki_soup_be.select(\"span.mw-page-title-main\")[0].get_text()\n",
        "city_name"
      ],
      "metadata": {
        "colab": {
          "base_uri": "https://localhost:8080/",
          "height": 36
        },
        "id": "b6w1PQA4c1CU",
        "outputId": "bb245469-9991-4a9e-d440-a6410ff40636"
      },
      "execution_count": null,
      "outputs": [
        {
          "output_type": "execute_result",
          "data": {
            "text/plain": [
              "'Berlin'"
            ],
            "application/vnd.google.colaboratory.intrinsic+json": {
              "type": "string"
            }
          },
          "metadata": {},
          "execution_count": 7
        }
      ]
    },
    {
      "cell_type": "code",
      "source": [
        "# extracting country name\n",
        "country_name = wiki_soup_be.select(\"td.infobox-data a\")[0].get_text()\n",
        "country_name"
      ],
      "metadata": {
        "colab": {
          "base_uri": "https://localhost:8080/",
          "height": 36
        },
        "id": "d2adTe5ldff6",
        "outputId": "5a8e75fe-f397-456b-f307-a34929f7fb25"
      },
      "execution_count": null,
      "outputs": [
        {
          "output_type": "execute_result",
          "data": {
            "text/plain": [
              "'Germany'"
            ],
            "application/vnd.google.colaboratory.intrinsic+json": {
              "type": "string"
            }
          },
          "metadata": {},
          "execution_count": 8
        }
      ]
    },
    {
      "cell_type": "code",
      "source": [
        "# extracting latitude\n",
        "latitude = wiki_soup_be.select(\"span.latitude\")[0].get_text()\n",
        "latitude"
      ],
      "metadata": {
        "colab": {
          "base_uri": "https://localhost:8080/",
          "height": 36
        },
        "id": "czR5y0sWdm--",
        "outputId": "6b59f23e-15da-41a3-deb1-1a37cc39eddf"
      },
      "execution_count": null,
      "outputs": [
        {
          "output_type": "execute_result",
          "data": {
            "text/plain": [
              "'52°31′12″N'"
            ],
            "application/vnd.google.colaboratory.intrinsic+json": {
              "type": "string"
            }
          },
          "metadata": {},
          "execution_count": 9
        }
      ]
    },
    {
      "cell_type": "code",
      "source": [
        "# extracting longitude\n",
        "longitude = wiki_soup_be.select(\"span.longitude\")[0].get_text()\n",
        "longitude"
      ],
      "metadata": {
        "colab": {
          "base_uri": "https://localhost:8080/",
          "height": 36
        },
        "id": "X0t3nfSHeAlk",
        "outputId": "199fe40c-82da-4254-e448-0b7049021c76"
      },
      "execution_count": null,
      "outputs": [
        {
          "output_type": "execute_result",
          "data": {
            "text/plain": [
              "'13°24′18″E'"
            ],
            "application/vnd.google.colaboratory.intrinsic+json": {
              "type": "string"
            }
          },
          "metadata": {},
          "execution_count": 10
        }
      ]
    },
    {
      "cell_type": "code",
      "source": [
        "# extracting population\n",
        "population_0 = wiki_soup_be.select(\"td.infobox-data\")[10].get_text()\n",
        "population_0"
      ],
      "metadata": {
        "colab": {
          "base_uri": "https://localhost:8080/",
          "height": 36
        },
        "id": "ZPSXwOg2eI-R",
        "outputId": "06859a41-a13f-4953-b4cd-34936689cb2b"
      },
      "execution_count": null,
      "outputs": [
        {
          "output_type": "execute_result",
          "data": {
            "text/plain": [
              "'3,850,809'"
            ],
            "application/vnd.google.colaboratory.intrinsic+json": {
              "type": "string"
            }
          },
          "metadata": {},
          "execution_count": 11
        }
      ]
    },
    {
      "cell_type": "code",
      "source": [
        "import re"
      ],
      "metadata": {
        "id": "rpqJoOY2fDY4"
      },
      "execution_count": null,
      "outputs": []
    },
    {
      "cell_type": "code",
      "source": [
        "population_1 = wiki_soup_be.select_one('th.infobox-header:-soup-contains(\"Population\")').parent.find_next_sibling().find(text=re.compile(r'\\d+'))\n",
        "population_1"
      ],
      "metadata": {
        "colab": {
          "base_uri": "https://localhost:8080/",
          "height": 70
        },
        "id": "fIrG5d24etuP",
        "outputId": "038c9a33-0227-4c31-9581-e8519d943769"
      },
      "execution_count": null,
      "outputs": [
        {
          "output_type": "stream",
          "name": "stderr",
          "text": [
            "<ipython-input-13-51a0ff374a11>:1: DeprecationWarning: The 'text' argument to find()-type methods is deprecated. Use 'string' instead.\n",
            "  population_1 = wiki_soup_be.select_one('th.infobox-header:-soup-contains(\"Population\")').parent.find_next_sibling().find(text=re.compile(r'\\d+'))\n"
          ]
        },
        {
          "output_type": "execute_result",
          "data": {
            "text/plain": [
              "'3,850,809'"
            ],
            "application/vnd.google.colaboratory.intrinsic+json": {
              "type": "string"
            }
          },
          "metadata": {},
          "execution_count": 13
        }
      ]
    },
    {
      "cell_type": "code",
      "source": [
        "list_of_cities = [\"Frankfurt\", \"Berlin\", \"Cologne\", \"Munich\", \"Hamburg\"]"
      ],
      "metadata": {
        "id": "nYbuSGz_fYNu"
      },
      "execution_count": null,
      "outputs": []
    },
    {
      "cell_type": "code",
      "source": [
        "def webscrape_wiki(list_of_cities):\n",
        "\n",
        "  list_for_df = []\n",
        "\n",
        "  for city in list_of_cities:\n",
        "\n",
        "    url = \"https://en.wikipedia.org/wiki/\" + city\n",
        "\n",
        "    headers = {'Accept-Language': 'en-US,en;q=0.8'}\n",
        "    response = requests.get(url, headers = headers)\n",
        "\n",
        "    wiki_soup = BeautifulSoup(response.content, \"html.parser\")\n",
        "\n",
        "    response_dict = {}\n",
        "\n",
        "    response_dict[\"city\"] = wiki_soup.select(\"span.mw-page-title-main\")[0].getText()\n",
        "    response_dict[\"country\"] = wiki_soup.select(\"table.infobox td.infobox-data\")[0].getText()\n",
        "    response_dict[\"latitude\"] = wiki_soup.select(\"span.latitude\")[0].getText()\n",
        "    response_dict[\"longitude\"] = wiki_soup.select(\"span.longitude\")[0].getText()\n",
        "\n",
        "    if wiki_soup.select_one('th.infobox-header:-soup-contains(\"Population\")'):\n",
        "      response_dict[\"population\"] = wiki_soup.select_one('th.infobox-header:-soup-contains(\"Population\")').parent.find_next_sibling().find(text=re.compile(r'\\d+'))\n",
        "\n",
        "    list_for_df.append(response_dict)\n",
        "\n",
        "  cities_df = pd.DataFrame(list_for_df)\n",
        "\n",
        "\n",
        "\n",
        "  return cities_df"
      ],
      "metadata": {
        "id": "gX620gohfibc"
      },
      "execution_count": null,
      "outputs": []
    },
    {
      "cell_type": "code",
      "source": [
        "webscrape_wiki(list_of_cities)"
      ],
      "metadata": {
        "colab": {
          "base_uri": "https://localhost:8080/",
          "height": 241
        },
        "id": "Y8BqZkrcnULr",
        "outputId": "fff82160-f074-4094-ffed-81a91406f150"
      },
      "execution_count": null,
      "outputs": [
        {
          "output_type": "stream",
          "name": "stderr",
          "text": [
            "<ipython-input-17-31dc67c0ca27>:23: DeprecationWarning: The 'text' argument to find()-type methods is deprecated. Use 'string' instead.\n",
            "  response_dict[\"population\"] = wiki_soup.select_one('th.infobox-header:-soup-contains(\"Population\")').parent.find_next_sibling().find(text=re.compile(r'\\d+'))\n"
          ]
        },
        {
          "output_type": "execute_result",
          "data": {
            "text/plain": [
              "        city  country    latitude   longitude population\n",
              "0  Frankfurt  Germany  50°06′38″N  08°40′56″E    773,068\n",
              "1     Berlin  Germany  52°31′12″N  13°24′18″E  3,850,809\n",
              "2    Cologne  Germany  50°56′11″N   6°57′10″E  1,073,096\n",
              "3     Munich  Germany  48°08′15″N  11°34′30″E  1,512,491\n",
              "4    Hamburg  Germany     53°33′N     10°00′E  1,906,411"
            ],
            "text/html": [
              "\n",
              "  <div id=\"df-ee4c178e-f968-4946-b2e4-e21ca523463b\">\n",
              "    <div class=\"colab-df-container\">\n",
              "      <div>\n",
              "<style scoped>\n",
              "    .dataframe tbody tr th:only-of-type {\n",
              "        vertical-align: middle;\n",
              "    }\n",
              "\n",
              "    .dataframe tbody tr th {\n",
              "        vertical-align: top;\n",
              "    }\n",
              "\n",
              "    .dataframe thead th {\n",
              "        text-align: right;\n",
              "    }\n",
              "</style>\n",
              "<table border=\"1\" class=\"dataframe\">\n",
              "  <thead>\n",
              "    <tr style=\"text-align: right;\">\n",
              "      <th></th>\n",
              "      <th>city</th>\n",
              "      <th>country</th>\n",
              "      <th>latitude</th>\n",
              "      <th>longitude</th>\n",
              "      <th>population</th>\n",
              "    </tr>\n",
              "  </thead>\n",
              "  <tbody>\n",
              "    <tr>\n",
              "      <th>0</th>\n",
              "      <td>Frankfurt</td>\n",
              "      <td>Germany</td>\n",
              "      <td>50°06′38″N</td>\n",
              "      <td>08°40′56″E</td>\n",
              "      <td>773,068</td>\n",
              "    </tr>\n",
              "    <tr>\n",
              "      <th>1</th>\n",
              "      <td>Berlin</td>\n",
              "      <td>Germany</td>\n",
              "      <td>52°31′12″N</td>\n",
              "      <td>13°24′18″E</td>\n",
              "      <td>3,850,809</td>\n",
              "    </tr>\n",
              "    <tr>\n",
              "      <th>2</th>\n",
              "      <td>Cologne</td>\n",
              "      <td>Germany</td>\n",
              "      <td>50°56′11″N</td>\n",
              "      <td>6°57′10″E</td>\n",
              "      <td>1,073,096</td>\n",
              "    </tr>\n",
              "    <tr>\n",
              "      <th>3</th>\n",
              "      <td>Munich</td>\n",
              "      <td>Germany</td>\n",
              "      <td>48°08′15″N</td>\n",
              "      <td>11°34′30″E</td>\n",
              "      <td>1,512,491</td>\n",
              "    </tr>\n",
              "    <tr>\n",
              "      <th>4</th>\n",
              "      <td>Hamburg</td>\n",
              "      <td>Germany</td>\n",
              "      <td>53°33′N</td>\n",
              "      <td>10°00′E</td>\n",
              "      <td>1,906,411</td>\n",
              "    </tr>\n",
              "  </tbody>\n",
              "</table>\n",
              "</div>\n",
              "      <button class=\"colab-df-convert\" onclick=\"convertToInteractive('df-ee4c178e-f968-4946-b2e4-e21ca523463b')\"\n",
              "              title=\"Convert this dataframe to an interactive table.\"\n",
              "              style=\"display:none;\">\n",
              "        \n",
              "  <svg xmlns=\"http://www.w3.org/2000/svg\" height=\"24px\"viewBox=\"0 0 24 24\"\n",
              "       width=\"24px\">\n",
              "    <path d=\"M0 0h24v24H0V0z\" fill=\"none\"/>\n",
              "    <path d=\"M18.56 5.44l.94 2.06.94-2.06 2.06-.94-2.06-.94-.94-2.06-.94 2.06-2.06.94zm-11 1L8.5 8.5l.94-2.06 2.06-.94-2.06-.94L8.5 2.5l-.94 2.06-2.06.94zm10 10l.94 2.06.94-2.06 2.06-.94-2.06-.94-.94-2.06-.94 2.06-2.06.94z\"/><path d=\"M17.41 7.96l-1.37-1.37c-.4-.4-.92-.59-1.43-.59-.52 0-1.04.2-1.43.59L10.3 9.45l-7.72 7.72c-.78.78-.78 2.05 0 2.83L4 21.41c.39.39.9.59 1.41.59.51 0 1.02-.2 1.41-.59l7.78-7.78 2.81-2.81c.8-.78.8-2.07 0-2.86zM5.41 20L4 18.59l7.72-7.72 1.47 1.35L5.41 20z\"/>\n",
              "  </svg>\n",
              "      </button>\n",
              "      \n",
              "  <style>\n",
              "    .colab-df-container {\n",
              "      display:flex;\n",
              "      flex-wrap:wrap;\n",
              "      gap: 12px;\n",
              "    }\n",
              "\n",
              "    .colab-df-convert {\n",
              "      background-color: #E8F0FE;\n",
              "      border: none;\n",
              "      border-radius: 50%;\n",
              "      cursor: pointer;\n",
              "      display: none;\n",
              "      fill: #1967D2;\n",
              "      height: 32px;\n",
              "      padding: 0 0 0 0;\n",
              "      width: 32px;\n",
              "    }\n",
              "\n",
              "    .colab-df-convert:hover {\n",
              "      background-color: #E2EBFA;\n",
              "      box-shadow: 0px 1px 2px rgba(60, 64, 67, 0.3), 0px 1px 3px 1px rgba(60, 64, 67, 0.15);\n",
              "      fill: #174EA6;\n",
              "    }\n",
              "\n",
              "    [theme=dark] .colab-df-convert {\n",
              "      background-color: #3B4455;\n",
              "      fill: #D2E3FC;\n",
              "    }\n",
              "\n",
              "    [theme=dark] .colab-df-convert:hover {\n",
              "      background-color: #434B5C;\n",
              "      box-shadow: 0px 1px 3px 1px rgba(0, 0, 0, 0.15);\n",
              "      filter: drop-shadow(0px 1px 2px rgba(0, 0, 0, 0.3));\n",
              "      fill: #FFFFFF;\n",
              "    }\n",
              "  </style>\n",
              "\n",
              "      <script>\n",
              "        const buttonEl =\n",
              "          document.querySelector('#df-ee4c178e-f968-4946-b2e4-e21ca523463b button.colab-df-convert');\n",
              "        buttonEl.style.display =\n",
              "          google.colab.kernel.accessAllowed ? 'block' : 'none';\n",
              "\n",
              "        async function convertToInteractive(key) {\n",
              "          const element = document.querySelector('#df-ee4c178e-f968-4946-b2e4-e21ca523463b');\n",
              "          const dataTable =\n",
              "            await google.colab.kernel.invokeFunction('convertToInteractive',\n",
              "                                                     [key], {});\n",
              "          if (!dataTable) return;\n",
              "\n",
              "          const docLinkHtml = 'Like what you see? Visit the ' +\n",
              "            '<a target=\"_blank\" href=https://colab.research.google.com/notebooks/data_table.ipynb>data table notebook</a>'\n",
              "            + ' to learn more about interactive tables.';\n",
              "          element.innerHTML = '';\n",
              "          dataTable['output_type'] = 'display_data';\n",
              "          await google.colab.output.renderOutput(dataTable, element);\n",
              "          const docLink = document.createElement('div');\n",
              "          docLink.innerHTML = docLinkHtml;\n",
              "          element.appendChild(docLink);\n",
              "        }\n",
              "      </script>\n",
              "    </div>\n",
              "  </div>\n",
              "  "
            ]
          },
          "metadata": {},
          "execution_count": 18
        }
      ]
    },
    {
      "cell_type": "code",
      "source": [
        "# lat = '''51°36'9.18\"N'''\n",
        "# deg, minutes, seconds, direction =  re.split('[°\\'\"]', lat)\n",
        "# (float(deg) + float(minutes)/60 + float(seconds)/(60*60)) * (-1 if direction in ['W', 'S'] else 1)"
      ],
      "metadata": {
        "id": "0ECx5P80osbR"
      },
      "execution_count": null,
      "outputs": []
    },
    {
      "cell_type": "code",
      "source": [
        "scooter_cities_df = pd.DataFrame(\n",
        "    {\"city_name\": [],\n",
        "     \"country\": [],\n",
        "     \"latitude\": [],\n",
        "     \"longitude\": [],\n",
        "     \"population\": []\n",
        "    }\n",
        ")\n",
        "\n",
        "for city in list_of_cities:\n",
        "\n",
        "    url = f\"https://en.wikipedia.org/wiki/{city}\"\n",
        "\n",
        "    headers = {'Accept-Language': 'en-US,en;q=0.8'}\n",
        "    response = requests.get(url, headers = headers)\n",
        "\n",
        "    if response.status_code != 200: break\n",
        "\n",
        "    wiki_soup = BeautifulSoup(response.content, \"html.parser\")\n",
        "\n",
        "    city_name = wiki_soup.select(\"span.mw-page-title-main\")[0].getText()\n",
        "    country_name = wiki_soup.select(\"table.infobox td.infobox-data\")[0].getText()\n",
        "    latitude = wiki_soup.select(\"span.latitude\")[0].getText()\n",
        "    longitude = wiki_soup.select(\"span.longitude\")[0].getText()\n",
        "\n",
        "    if wiki_soup.select_one('th.infobox-header:-soup-contains(\"Population\")'):\n",
        "        population = wiki_soup.select_one('th.infobox-header:-soup-contains(\"Population\")').parent.find_next_sibling().find(text=re.compile(r'\\d+'))\n",
        "\n",
        "    city_df = pd.DataFrame(\n",
        "        {\"city_name\": [city_name],\n",
        "         \"country\": [country_name],\n",
        "         \"latitude\": [latitude],\n",
        "         \"longitude\": [longitude],\n",
        "         \"population\": [population]\n",
        "        }\n",
        "    )\n",
        "\n",
        "    scooter_cities_df = pd.concat([scooter_cities_df, city_df], ignore_index = True)\n",
        "\n",
        "    # fixing latitude\n",
        "    scooter_cities_df[\"latitude\"] = scooter_cities_df[\"latitude\"].str.split('″').str[0].str.replace('°', '.', regex=False).str.replace('′', '', regex=False)\n",
        "    # fixing longitude\n",
        "    scooter_cities_df[\"longitude\"] = scooter_cities_df[\"longitude\"].str.split('″').str[0].str.replace('°', '.', regex=False).str.replace('′', '', regex=False)\n",
        "    # fixing population\n",
        "    scooter_cities_df[\"population\"] = scooter_cities_df[\"population\"].str.replace(',', '', regex=False)\n",
        "\n",
        "\n",
        "scooter_cities_df"
      ],
      "metadata": {
        "colab": {
          "base_uri": "https://localhost:8080/",
          "height": 379
        },
        "id": "cEHckjtgSKWL",
        "outputId": "dcf74aeb-947f-4415-f588-61b8f4b59220"
      },
      "execution_count": null,
      "outputs": [
        {
          "output_type": "stream",
          "name": "stderr",
          "text": [
            "<ipython-input-16-e1b53b30c850>:27: DeprecationWarning: The 'text' argument to find()-type methods is deprecated. Use 'string' instead.\n",
            "  population = wiki_soup.select_one('th.infobox-header:-soup-contains(\"Population\")').parent.find_next_sibling().find(text=re.compile(r'\\d+'))\n",
            "<ipython-input-16-e1b53b30c850>:27: DeprecationWarning: The 'text' argument to find()-type methods is deprecated. Use 'string' instead.\n",
            "  population = wiki_soup.select_one('th.infobox-header:-soup-contains(\"Population\")').parent.find_next_sibling().find(text=re.compile(r'\\d+'))\n",
            "<ipython-input-16-e1b53b30c850>:27: DeprecationWarning: The 'text' argument to find()-type methods is deprecated. Use 'string' instead.\n",
            "  population = wiki_soup.select_one('th.infobox-header:-soup-contains(\"Population\")').parent.find_next_sibling().find(text=re.compile(r'\\d+'))\n",
            "<ipython-input-16-e1b53b30c850>:27: DeprecationWarning: The 'text' argument to find()-type methods is deprecated. Use 'string' instead.\n",
            "  population = wiki_soup.select_one('th.infobox-header:-soup-contains(\"Population\")').parent.find_next_sibling().find(text=re.compile(r'\\d+'))\n",
            "<ipython-input-16-e1b53b30c850>:27: DeprecationWarning: The 'text' argument to find()-type methods is deprecated. Use 'string' instead.\n",
            "  population = wiki_soup.select_one('th.infobox-header:-soup-contains(\"Population\")').parent.find_next_sibling().find(text=re.compile(r'\\d+'))\n"
          ]
        },
        {
          "output_type": "execute_result",
          "data": {
            "text/plain": [
              "   city_name  country latitude longitude population\n",
              "0  Frankfurt  Germany  50.0638   08.4056     773068\n",
              "1     Berlin  Germany  52.3112   13.2418    3850809\n",
              "2    Cologne  Germany  50.5611    6.5710    1073096\n",
              "3     Munich  Germany  48.0815   11.3430    1512491\n",
              "4    Hamburg  Germany   53.33N    10.00E    1906411"
            ],
            "text/html": [
              "\n",
              "  <div id=\"df-f0f9b696-b08f-430e-af83-c02cc435ff4b\">\n",
              "    <div class=\"colab-df-container\">\n",
              "      <div>\n",
              "<style scoped>\n",
              "    .dataframe tbody tr th:only-of-type {\n",
              "        vertical-align: middle;\n",
              "    }\n",
              "\n",
              "    .dataframe tbody tr th {\n",
              "        vertical-align: top;\n",
              "    }\n",
              "\n",
              "    .dataframe thead th {\n",
              "        text-align: right;\n",
              "    }\n",
              "</style>\n",
              "<table border=\"1\" class=\"dataframe\">\n",
              "  <thead>\n",
              "    <tr style=\"text-align: right;\">\n",
              "      <th></th>\n",
              "      <th>city_name</th>\n",
              "      <th>country</th>\n",
              "      <th>latitude</th>\n",
              "      <th>longitude</th>\n",
              "      <th>population</th>\n",
              "    </tr>\n",
              "  </thead>\n",
              "  <tbody>\n",
              "    <tr>\n",
              "      <th>0</th>\n",
              "      <td>Frankfurt</td>\n",
              "      <td>Germany</td>\n",
              "      <td>50.0638</td>\n",
              "      <td>08.4056</td>\n",
              "      <td>773068</td>\n",
              "    </tr>\n",
              "    <tr>\n",
              "      <th>1</th>\n",
              "      <td>Berlin</td>\n",
              "      <td>Germany</td>\n",
              "      <td>52.3112</td>\n",
              "      <td>13.2418</td>\n",
              "      <td>3850809</td>\n",
              "    </tr>\n",
              "    <tr>\n",
              "      <th>2</th>\n",
              "      <td>Cologne</td>\n",
              "      <td>Germany</td>\n",
              "      <td>50.5611</td>\n",
              "      <td>6.5710</td>\n",
              "      <td>1073096</td>\n",
              "    </tr>\n",
              "    <tr>\n",
              "      <th>3</th>\n",
              "      <td>Munich</td>\n",
              "      <td>Germany</td>\n",
              "      <td>48.0815</td>\n",
              "      <td>11.3430</td>\n",
              "      <td>1512491</td>\n",
              "    </tr>\n",
              "    <tr>\n",
              "      <th>4</th>\n",
              "      <td>Hamburg</td>\n",
              "      <td>Germany</td>\n",
              "      <td>53.33N</td>\n",
              "      <td>10.00E</td>\n",
              "      <td>1906411</td>\n",
              "    </tr>\n",
              "  </tbody>\n",
              "</table>\n",
              "</div>\n",
              "      <button class=\"colab-df-convert\" onclick=\"convertToInteractive('df-f0f9b696-b08f-430e-af83-c02cc435ff4b')\"\n",
              "              title=\"Convert this dataframe to an interactive table.\"\n",
              "              style=\"display:none;\">\n",
              "        \n",
              "  <svg xmlns=\"http://www.w3.org/2000/svg\" height=\"24px\"viewBox=\"0 0 24 24\"\n",
              "       width=\"24px\">\n",
              "    <path d=\"M0 0h24v24H0V0z\" fill=\"none\"/>\n",
              "    <path d=\"M18.56 5.44l.94 2.06.94-2.06 2.06-.94-2.06-.94-.94-2.06-.94 2.06-2.06.94zm-11 1L8.5 8.5l.94-2.06 2.06-.94-2.06-.94L8.5 2.5l-.94 2.06-2.06.94zm10 10l.94 2.06.94-2.06 2.06-.94-2.06-.94-.94-2.06-.94 2.06-2.06.94z\"/><path d=\"M17.41 7.96l-1.37-1.37c-.4-.4-.92-.59-1.43-.59-.52 0-1.04.2-1.43.59L10.3 9.45l-7.72 7.72c-.78.78-.78 2.05 0 2.83L4 21.41c.39.39.9.59 1.41.59.51 0 1.02-.2 1.41-.59l7.78-7.78 2.81-2.81c.8-.78.8-2.07 0-2.86zM5.41 20L4 18.59l7.72-7.72 1.47 1.35L5.41 20z\"/>\n",
              "  </svg>\n",
              "      </button>\n",
              "      \n",
              "  <style>\n",
              "    .colab-df-container {\n",
              "      display:flex;\n",
              "      flex-wrap:wrap;\n",
              "      gap: 12px;\n",
              "    }\n",
              "\n",
              "    .colab-df-convert {\n",
              "      background-color: #E8F0FE;\n",
              "      border: none;\n",
              "      border-radius: 50%;\n",
              "      cursor: pointer;\n",
              "      display: none;\n",
              "      fill: #1967D2;\n",
              "      height: 32px;\n",
              "      padding: 0 0 0 0;\n",
              "      width: 32px;\n",
              "    }\n",
              "\n",
              "    .colab-df-convert:hover {\n",
              "      background-color: #E2EBFA;\n",
              "      box-shadow: 0px 1px 2px rgba(60, 64, 67, 0.3), 0px 1px 3px 1px rgba(60, 64, 67, 0.15);\n",
              "      fill: #174EA6;\n",
              "    }\n",
              "\n",
              "    [theme=dark] .colab-df-convert {\n",
              "      background-color: #3B4455;\n",
              "      fill: #D2E3FC;\n",
              "    }\n",
              "\n",
              "    [theme=dark] .colab-df-convert:hover {\n",
              "      background-color: #434B5C;\n",
              "      box-shadow: 0px 1px 3px 1px rgba(0, 0, 0, 0.15);\n",
              "      filter: drop-shadow(0px 1px 2px rgba(0, 0, 0, 0.3));\n",
              "      fill: #FFFFFF;\n",
              "    }\n",
              "  </style>\n",
              "\n",
              "      <script>\n",
              "        const buttonEl =\n",
              "          document.querySelector('#df-f0f9b696-b08f-430e-af83-c02cc435ff4b button.colab-df-convert');\n",
              "        buttonEl.style.display =\n",
              "          google.colab.kernel.accessAllowed ? 'block' : 'none';\n",
              "\n",
              "        async function convertToInteractive(key) {\n",
              "          const element = document.querySelector('#df-f0f9b696-b08f-430e-af83-c02cc435ff4b');\n",
              "          const dataTable =\n",
              "            await google.colab.kernel.invokeFunction('convertToInteractive',\n",
              "                                                     [key], {});\n",
              "          if (!dataTable) return;\n",
              "\n",
              "          const docLinkHtml = 'Like what you see? Visit the ' +\n",
              "            '<a target=\"_blank\" href=https://colab.research.google.com/notebooks/data_table.ipynb>data table notebook</a>'\n",
              "            + ' to learn more about interactive tables.';\n",
              "          element.innerHTML = '';\n",
              "          dataTable['output_type'] = 'display_data';\n",
              "          await google.colab.output.renderOutput(dataTable, element);\n",
              "          const docLink = document.createElement('div');\n",
              "          docLink.innerHTML = docLinkHtml;\n",
              "          element.appendChild(docLink);\n",
              "        }\n",
              "      </script>\n",
              "    </div>\n",
              "  </div>\n",
              "  "
            ]
          },
          "metadata": {},
          "execution_count": 16
        }
      ]
    }
  ]
}
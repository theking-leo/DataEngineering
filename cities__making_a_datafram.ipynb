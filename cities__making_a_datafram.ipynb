{
  "nbformat": 4,
  "nbformat_minor": 0,
  "metadata": {
    "colab": {
      "provenance": []
    },
    "kernelspec": {
      "name": "python3",
      "display_name": "Python 3"
    },
    "language_info": {
      "name": "python"
    }
  },
  "cells": [
    {
      "cell_type": "code",
      "source": [
        "# colab has an older version of beautifulsoup by default\n",
        "# here we upgrade it\n",
        "# if you are working on your own computer, you can probably comment this step out and skip it\n",
        "!pip install --upgrade beautifulsoup4"
      ],
      "metadata": {
        "colab": {
          "base_uri": "https://localhost:8080/"
        },
        "id": "h7XGRW58Onq4",
        "outputId": "8dab0661-499a-4727-ebad-14c2b36aa847"
      },
      "execution_count": null,
      "outputs": [
        {
          "output_type": "stream",
          "name": "stdout",
          "text": [
            "Requirement already satisfied: beautifulsoup4 in /usr/local/lib/python3.10/dist-packages (4.11.2)\n",
            "Collecting beautifulsoup4\n",
            "  Downloading beautifulsoup4-4.12.2-py3-none-any.whl (142 kB)\n",
            "\u001b[?25l     \u001b[90m━━━━━━━━━━━━━━━━━━━━━━━━━━━━━━━━━━━━━━━━\u001b[0m \u001b[32m0.0/143.0 kB\u001b[0m \u001b[31m?\u001b[0m eta \u001b[36m-:--:--\u001b[0m\r\u001b[2K     \u001b[90m━━━━━━━━━━━━━━━━━━━━━━━━━━━━━━━━━━━━━━━\u001b[0m \u001b[32m143.0/143.0 kB\u001b[0m \u001b[31m5.7 MB/s\u001b[0m eta \u001b[36m0:00:00\u001b[0m\n",
            "\u001b[?25hRequirement already satisfied: soupsieve>1.2 in /usr/local/lib/python3.10/dist-packages (from beautifulsoup4) (2.4.1)\n",
            "Installing collected packages: beautifulsoup4\n",
            "  Attempting uninstall: beautifulsoup4\n",
            "    Found existing installation: beautifulsoup4 4.11.2\n",
            "    Uninstalling beautifulsoup4-4.11.2:\n",
            "      Successfully uninstalled beautifulsoup4-4.11.2\n",
            "Successfully installed beautifulsoup4-4.12.2\n"
          ]
        }
      ]
    },
    {
      "cell_type": "code",
      "execution_count": null,
      "metadata": {
        "id": "09E5mZ6mjM-J"
      },
      "outputs": [],
      "source": [
        "# 1. import libraries\n",
        "from bs4 import BeautifulSoup\n",
        "import requests\n",
        "import pandas as pd\n",
        "import re"
      ]
    },
    {
      "cell_type": "code",
      "source": [
        "# 2. find url and store it in a variable\n",
        "url = \"https://en.wikipedia.org/wiki/Berlin\""
      ],
      "metadata": {
        "id": "EfulSS0rj9Gd"
      },
      "execution_count": null,
      "outputs": []
    },
    {
      "cell_type": "code",
      "source": [
        "# 3. download html with a get request\n",
        "response = requests.get(url)\n",
        "response.status_code # 200 status code means OK!"
      ],
      "metadata": {
        "colab": {
          "base_uri": "https://localhost:8080/"
        },
        "id": "6ToaJ81GkC0r",
        "outputId": "d1854c52-59b6-456e-de21-f820668abea6"
      },
      "execution_count": null,
      "outputs": [
        {
          "output_type": "execute_result",
          "data": {
            "text/plain": [
              "200"
            ]
          },
          "metadata": {},
          "execution_count": 9
        }
      ]
    },
    {
      "cell_type": "code",
      "source": [
        "# 4.1. parse html (create the 'soup')\n",
        "soup = BeautifulSoup(response.content, \"html.parser\")\n",
        "# 4.2. check that the html code looks like it should\n",
        "# soup"
      ],
      "metadata": {
        "id": "bBB9cK_1kHeK"
      },
      "execution_count": null,
      "outputs": []
    },
    {
      "cell_type": "code",
      "source": [
        "# 5. retrieve/extract the desired info (here, you'll paste the \"Selector\" you copied before to get the element that belongs to the top movie)\n",
        "\n",
        "# let's first try to get the name of the city\n",
        "# by copying the selector we can see that it has the id firstHeading (it also has a class by the same name!)\n",
        "soup.select(\"#firstHeading\")"
      ],
      "metadata": {
        "colab": {
          "base_uri": "https://localhost:8080/"
        },
        "id": "NEPylwtLkRz6",
        "outputId": "875c0cd2-9c7b-4221-a88e-7fbc53417821"
      },
      "execution_count": null,
      "outputs": [
        {
          "output_type": "execute_result",
          "data": {
            "text/plain": [
              "[<h1 class=\"firstHeading mw-first-heading\" id=\"firstHeading\"><span class=\"mw-page-title-main\">Berlin</span></h1>]"
            ]
          },
          "metadata": {},
          "execution_count": 6
        }
      ]
    },
    {
      "cell_type": "code",
      "source": [
        "soup.select(\"#firstHeading\")[0].get_text()"
      ],
      "metadata": {
        "colab": {
          "base_uri": "https://localhost:8080/",
          "height": 36
        },
        "id": "xC2gDSscWtyS",
        "outputId": "5727abb5-bb4f-4ac6-e961-fb3a9efb2634"
      },
      "execution_count": null,
      "outputs": [
        {
          "output_type": "execute_result",
          "data": {
            "text/plain": [
              "'Berlin'"
            ],
            "application/vnd.google.colaboratory.intrinsic+json": {
              "type": "string"
            }
          },
          "metadata": {},
          "execution_count": 7
        }
      ]
    },
    {
      "cell_type": "code",
      "source": [
        "# Let's use this class, infobox-data, to target the information country\n",
        "soup.select(\".infobox-data\")[0].get_text()"
      ],
      "metadata": {
        "colab": {
          "base_uri": "https://localhost:8080/",
          "height": 36
        },
        "id": "zqaG8u2YX96Z",
        "outputId": "ea9013ea-1491-4a36-995f-e6703c914e3a"
      },
      "execution_count": null,
      "outputs": [
        {
          "output_type": "execute_result",
          "data": {
            "text/plain": [
              "'Germany'"
            ],
            "application/vnd.google.colaboratory.intrinsic+json": {
              "type": "string"
            }
          },
          "metadata": {},
          "execution_count": 8
        }
      ]
    },
    {
      "cell_type": "code",
      "source": [
        "#soup.select(\".infobox-data\")[0].get_text()"
      ],
      "metadata": {
        "id": "hdVBTcmTIwh8"
      },
      "execution_count": null,
      "outputs": []
    },
    {
      "cell_type": "markdown",
      "source": [
        "Now we just carry on exploring the html, finding classes, ids, and selectors to target the information we need. Hopefully these classes and selectors will be universal across all cities on wikipedia, but it is likely that they will change in a few places, and we will have to try to make our code robust to this"
      ],
      "metadata": {
        "id": "a5NbgdoeYKIo"
      }
    },
    {
      "cell_type": "code",
      "source": [
        "# Import necessary modules\n",
        "import requests\n",
        "from bs4 import BeautifulSoup\n",
        "import pandas as pd\n",
        "import re\n",
        "\n",
        "# Function to extract website data from the soup object\n",
        "def get_website(soup):\n",
        "  # Find the element with class 'infobox-label' and text 'Website'\n",
        "  website_elem = soup.find(class_=\"infobox-label\", string=\"Website\")\n",
        "  if website_elem:\n",
        "    # If found, return the next sibling element with class 'infobox-data'\n",
        "    next_elem = website_elem.find_next(class_='infobox-data')\n",
        "    return next_elem.text\n",
        "  else:\n",
        "      # If not found, return None\n",
        "      return None\n",
        "\n",
        "# Function to extract population data from the soup object\n",
        "def get_population(soup):\n",
        "    # Find the table header element containing the text 'Population'\n",
        "    population_elem = soup.select_one('th.infobox-header:-soup-contains(\"Population\")')\n",
        "    # If found, find the next sibling and extract the first numerical data\n",
        "    return population_elem.parent.find_next_sibling().find(text=re.compile(r'\\d+')) if population_elem else None # note the different syntax for the if/else clause here\n",
        "\n",
        "# Function to clean the data in the DataFrame\n",
        "def clean_data(df):\n",
        "    # Remove unnecessary characters from 'latitude' and 'longitude' columns\n",
        "    df['latitude'] = df['latitude'].str.split('″').str[0].str.replace('°', '.', regex=False).str.replace('′', '', regex=False)\n",
        "    df['longitude'] = df['longitude'].str.split('″').str[0].str.replace('°', '.', regex=False).str.replace('′', '', regex=False)\n",
        "\n",
        "# Function to extract city info from its Wikipedia page\n",
        "def get_city_info(city):\n",
        "    # Construct the URL\n",
        "    url = f'https://en.wikipedia.org/wiki/{city}'\n",
        "    # Send a GET request\n",
        "    r = requests.get(url)\n",
        "    # Parse the response content with BeautifulSoup\n",
        "    soup = BeautifulSoup(r.content, 'html.parser')\n",
        "\n",
        "    try:\n",
        "        # Construct a dictionary with necessary details\n",
        "        response_dict = {\n",
        "            'city': soup.select_one(\".firstHeading\").get_text(),\n",
        "            'country': soup.select_one(\".infobox-data\").get_text(),\n",
        "            'latitude': soup.select_one(\".latitude\").get_text(),\n",
        "            'longitude': soup.select_one(\".longitude\").get_text(),\n",
        "            'website': get_website(soup),\n",
        "            'population': get_population(soup)\n",
        "        }\n",
        "    except AttributeError:\n",
        "        # If any data is missing, print an error message and return None\n",
        "        print(f'Failed to get data for {city}')\n",
        "        return None\n",
        "\n",
        "    return response_dict\n",
        "\n",
        "# Function to scrape data for a list of cities and return a DataFrame\n",
        "def recreate_wiki(cities):\n",
        "    # Get info for each city\n",
        "    city_data = [get_city_info(city) for city in cities]\n",
        "    # Convert the list of dictionaries to a DataFrame\n",
        "    cities_df = pd.DataFrame(city_data)\n",
        "    # Clean the data\n",
        "    clean_data(cities_df)\n",
        "    # Return the DataFrame\n",
        "    return cities_df"
      ],
      "metadata": {
        "id": "6ZaT16qaP2yJ"
      },
      "execution_count": null,
      "outputs": []
    },
    {
      "cell_type": "code",
      "source": [
        "list_of_cities = ['Berlin', 'Hamburg', 'Bremen', 'Munich', 'Stuttgart']\n",
        "recreate_wiki(list_of_cities)"
      ],
      "metadata": {
        "colab": {
          "base_uri": "https://localhost:8080/",
          "height": 261
        },
        "id": "vPj5D3KfTZk2",
        "outputId": "6c96311e-41f8-43dc-90d8-bef655bdf88c"
      },
      "execution_count": null,
      "outputs": [
        {
          "output_type": "stream",
          "name": "stderr",
          "text": [
            "<ipython-input-75-7d9d97f8c531>:24: DeprecationWarning: The 'text' argument to find()-type methods is deprecated. Use 'string' instead.\n",
            "  return population_elem.parent.find_next_sibling().find(text=re.compile(r'\\d+')) if population_elem else None # note the different syntax for the if/else clause here\n"
          ]
        },
        {
          "output_type": "execute_result",
          "data": {
            "text/plain": [
              "        city  country latitude longitude                    website population\n",
              "0     Berlin  Germany  52.3112   13.2418                  berlin.de  3,677,472\n",
              "1    Hamburg  Germany   53.33N    10.00E                hamburg.com  1,906,411\n",
              "2     Bremen  Germany    53.5N     8.48E              Bremen online    563,290\n",
              "3     Munich  Germany  48.0815   11.3430          stadt.muenchen.de  1,487,708\n",
              "4  Stuttgart  Germany  48.4639   09.1048  www.stuttgart-tourist.de     626,275"
            ],
            "text/html": [
              "\n",
              "  <div id=\"df-99d5dc04-8e4c-41a7-aee7-3f92ecdef56e\">\n",
              "    <div class=\"colab-df-container\">\n",
              "      <div>\n",
              "<style scoped>\n",
              "    .dataframe tbody tr th:only-of-type {\n",
              "        vertical-align: middle;\n",
              "    }\n",
              "\n",
              "    .dataframe tbody tr th {\n",
              "        vertical-align: top;\n",
              "    }\n",
              "\n",
              "    .dataframe thead th {\n",
              "        text-align: right;\n",
              "    }\n",
              "</style>\n",
              "<table border=\"1\" class=\"dataframe\">\n",
              "  <thead>\n",
              "    <tr style=\"text-align: right;\">\n",
              "      <th></th>\n",
              "      <th>city</th>\n",
              "      <th>country</th>\n",
              "      <th>latitude</th>\n",
              "      <th>longitude</th>\n",
              "      <th>website</th>\n",
              "      <th>population</th>\n",
              "    </tr>\n",
              "  </thead>\n",
              "  <tbody>\n",
              "    <tr>\n",
              "      <th>0</th>\n",
              "      <td>Berlin</td>\n",
              "      <td>Germany</td>\n",
              "      <td>52.3112</td>\n",
              "      <td>13.2418</td>\n",
              "      <td>berlin.de</td>\n",
              "      <td>3,677,472</td>\n",
              "    </tr>\n",
              "    <tr>\n",
              "      <th>1</th>\n",
              "      <td>Hamburg</td>\n",
              "      <td>Germany</td>\n",
              "      <td>53.33N</td>\n",
              "      <td>10.00E</td>\n",
              "      <td>hamburg.com</td>\n",
              "      <td>1,906,411</td>\n",
              "    </tr>\n",
              "    <tr>\n",
              "      <th>2</th>\n",
              "      <td>Bremen</td>\n",
              "      <td>Germany</td>\n",
              "      <td>53.5N</td>\n",
              "      <td>8.48E</td>\n",
              "      <td>Bremen online</td>\n",
              "      <td>563,290</td>\n",
              "    </tr>\n",
              "    <tr>\n",
              "      <th>3</th>\n",
              "      <td>Munich</td>\n",
              "      <td>Germany</td>\n",
              "      <td>48.0815</td>\n",
              "      <td>11.3430</td>\n",
              "      <td>stadt.muenchen.de</td>\n",
              "      <td>1,487,708</td>\n",
              "    </tr>\n",
              "    <tr>\n",
              "      <th>4</th>\n",
              "      <td>Stuttgart</td>\n",
              "      <td>Germany</td>\n",
              "      <td>48.4639</td>\n",
              "      <td>09.1048</td>\n",
              "      <td>www.stuttgart-tourist.de</td>\n",
              "      <td>626,275</td>\n",
              "    </tr>\n",
              "  </tbody>\n",
              "</table>\n",
              "</div>\n",
              "      <button class=\"colab-df-convert\" onclick=\"convertToInteractive('df-99d5dc04-8e4c-41a7-aee7-3f92ecdef56e')\"\n",
              "              title=\"Convert this dataframe to an interactive table.\"\n",
              "              style=\"display:none;\">\n",
              "        \n",
              "  <svg xmlns=\"http://www.w3.org/2000/svg\" height=\"24px\"viewBox=\"0 0 24 24\"\n",
              "       width=\"24px\">\n",
              "    <path d=\"M0 0h24v24H0V0z\" fill=\"none\"/>\n",
              "    <path d=\"M18.56 5.44l.94 2.06.94-2.06 2.06-.94-2.06-.94-.94-2.06-.94 2.06-2.06.94zm-11 1L8.5 8.5l.94-2.06 2.06-.94-2.06-.94L8.5 2.5l-.94 2.06-2.06.94zm10 10l.94 2.06.94-2.06 2.06-.94-2.06-.94-.94-2.06-.94 2.06-2.06.94z\"/><path d=\"M17.41 7.96l-1.37-1.37c-.4-.4-.92-.59-1.43-.59-.52 0-1.04.2-1.43.59L10.3 9.45l-7.72 7.72c-.78.78-.78 2.05 0 2.83L4 21.41c.39.39.9.59 1.41.59.51 0 1.02-.2 1.41-.59l7.78-7.78 2.81-2.81c.8-.78.8-2.07 0-2.86zM5.41 20L4 18.59l7.72-7.72 1.47 1.35L5.41 20z\"/>\n",
              "  </svg>\n",
              "      </button>\n",
              "      \n",
              "  <style>\n",
              "    .colab-df-container {\n",
              "      display:flex;\n",
              "      flex-wrap:wrap;\n",
              "      gap: 12px;\n",
              "    }\n",
              "\n",
              "    .colab-df-convert {\n",
              "      background-color: #E8F0FE;\n",
              "      border: none;\n",
              "      border-radius: 50%;\n",
              "      cursor: pointer;\n",
              "      display: none;\n",
              "      fill: #1967D2;\n",
              "      height: 32px;\n",
              "      padding: 0 0 0 0;\n",
              "      width: 32px;\n",
              "    }\n",
              "\n",
              "    .colab-df-convert:hover {\n",
              "      background-color: #E2EBFA;\n",
              "      box-shadow: 0px 1px 2px rgba(60, 64, 67, 0.3), 0px 1px 3px 1px rgba(60, 64, 67, 0.15);\n",
              "      fill: #174EA6;\n",
              "    }\n",
              "\n",
              "    [theme=dark] .colab-df-convert {\n",
              "      background-color: #3B4455;\n",
              "      fill: #D2E3FC;\n",
              "    }\n",
              "\n",
              "    [theme=dark] .colab-df-convert:hover {\n",
              "      background-color: #434B5C;\n",
              "      box-shadow: 0px 1px 3px 1px rgba(0, 0, 0, 0.15);\n",
              "      filter: drop-shadow(0px 1px 2px rgba(0, 0, 0, 0.3));\n",
              "      fill: #FFFFFF;\n",
              "    }\n",
              "  </style>\n",
              "\n",
              "      <script>\n",
              "        const buttonEl =\n",
              "          document.querySelector('#df-99d5dc04-8e4c-41a7-aee7-3f92ecdef56e button.colab-df-convert');\n",
              "        buttonEl.style.display =\n",
              "          google.colab.kernel.accessAllowed ? 'block' : 'none';\n",
              "\n",
              "        async function convertToInteractive(key) {\n",
              "          const element = document.querySelector('#df-99d5dc04-8e4c-41a7-aee7-3f92ecdef56e');\n",
              "          const dataTable =\n",
              "            await google.colab.kernel.invokeFunction('convertToInteractive',\n",
              "                                                     [key], {});\n",
              "          if (!dataTable) return;\n",
              "\n",
              "          const docLinkHtml = 'Like what you see? Visit the ' +\n",
              "            '<a target=\"_blank\" href=https://colab.research.google.com/notebooks/data_table.ipynb>data table notebook</a>'\n",
              "            + ' to learn more about interactive tables.';\n",
              "          element.innerHTML = '';\n",
              "          dataTable['output_type'] = 'display_data';\n",
              "          await google.colab.output.renderOutput(dataTable, element);\n",
              "          const docLink = document.createElement('div');\n",
              "          docLink.innerHTML = docLinkHtml;\n",
              "          element.appendChild(docLink);\n",
              "        }\n",
              "      </script>\n",
              "    </div>\n",
              "  </div>\n",
              "  "
            ]
          },
          "metadata": {},
          "execution_count": 77
        }
      ]
    },
    {
      "cell_type": "code",
      "source": [],
      "metadata": {
        "id": "P6A4_bCVCRTk"
      },
      "execution_count": null,
      "outputs": []
    }
  ]
}